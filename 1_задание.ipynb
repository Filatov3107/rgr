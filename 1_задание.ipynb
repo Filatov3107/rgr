{
  "nbformat": 4,
  "nbformat_minor": 0,
  "metadata": {
    "colab": {
      "name": "1 задание",
      "provenance": [],
      "toc_visible": true
    },
    "kernelspec": {
      "name": "python3",
      "display_name": "Python 3"
    },
    "language_info": {
      "name": "python"
    }
  },
  "cells": [
    {
      "cell_type": "markdown",
      "source": [
        "#Заголовок первого уровня\n",
        "##Заголовок второго уровня\n",
        "###Заголовок третьего уровня\n",
        "\n",
        "Заглавная|Строчная|Название|\n",
        "--|--|--\n",
        "$$A$$|$$\\alpha$$|альфа\n",
        "$$B$$|$$\\beta$$|вита (бета)\n",
        "$$\\Gamma$$|$$\\gamma$$|гамма\n",
        "$$\\Delta$$|$$\\delta$$|дельта\n",
        "$$E$$|$$\\epsilon$$|эпсилон\n",
        "$$Z$$|$$\\zeta$$|зита (дзета)\n",
        "$$H$$|$$\\eta$$|ита (эта)\n",
        "$$\\Theta$$|$$\\theta$$|фита (тета)\n",
        "$$I$$|$$\\iota$$|йота\n",
        "$$K$$|$$\\kappa$$|каппа\n",
        "$$\\Lambda$$|$$\\lambda$$|ламда (лямбда)\n",
        "$$M$$|$$\\mu$$|ми (мю)\n",
        "$$N$$|$$\\nu$$|ни (ню)\n",
        "$$\\Xi$$|$$\\xi$$|кси\n",
        "$$O$$|$$\\omicron$$|омикрон\n",
        "$$\\Pi$$|$$\\pi$$|пи\n",
        "$$P$$|$$\\rho$$|ро\n",
        "$$\\Sigma$$|$$\\sigma$$|сигма\n",
        "$$T$$|$$\\tau$$|таф (тау)\n",
        "$$\\Upsilon$$|$$\\upsilon$$|ипсилон\n",
        "$$\\Phi$$|$$\\phi$$|фи\n",
        "$$X$$|$$\\chi$$|хи\n",
        "$$\\Psi$$|$$\\psi$$|пси\n",
        "$$\\Omega$$|$$\\omega$$|омега\n",
        "\n",
        "Формула в отдельной строке:\n",
        "$${\\displaystyle f(x)={\\frac {1}{\\sigma {\\sqrt {2\\pi }}}}e^{-{\\frac {1}{2}} \\left({\\frac {x-\\mu }{\\sigma}}\\right)^{2}}}$$\n",
        "\n",
        "Формула в тексте: ${\\displaystyle f(x)={\\frac {1}{\\sigma {\\sqrt {2\\pi }}}}e^{-{\\frac {1}{2}} \\left({\\frac {x-\\mu }{\\sigma}}\\right)^{2}}}$\n"
      ],
      "metadata": {
        "id": "jKHZ6pivewzE"
      }
    }
  ]
}