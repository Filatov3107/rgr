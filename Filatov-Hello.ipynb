{
 "cells": [
  {
   "cell_type": "code",
   "execution_count": 1,
   "id": "599bdbee-a9bc-436f-b0c0-7d3a85e90529",
   "metadata": {},
   "outputs": [],
   "source": [
    "#Первая программа на суперкомпьютере"
   ]
  },
  {
   "cell_type": "code",
   "execution_count": 2,
   "id": "e293125d-49a0-4d5a-988b-352207aa44a9",
   "metadata": {},
   "outputs": [
    {
     "name": "stdout",
     "output_type": "stream",
     "text": [
      "Hello, World!\n",
      "Филатов И.М.\n"
     ]
    }
   ],
   "source": [
    "print(\"Hello, World!\")\n",
    "print(\"Филатов И.М.\")"
   ]
  },
  {
   "cell_type": "code",
   "execution_count": null,
   "id": "b8aa75e5-59e5-4fb4-902f-fb3f7674c10a",
   "metadata": {},
   "outputs": [],
   "source": []
  },
  {
   "cell_type": "code",
   "execution_count": null,
   "id": "2e61893d-b376-4e6e-a13f-750bcf35ab45",
   "metadata": {},
   "outputs": [],
   "source": []
  }
 ],
 "metadata": {
  "kernelspec": {
   "display_name": "Python 3 (ipykernel)",
   "language": "python",
   "name": "python3"
  },
  "language_info": {
   "codemirror_mode": {
    "name": "ipython",
    "version": 3
   },
   "file_extension": ".py",
   "mimetype": "text/x-python",
   "name": "python",
   "nbconvert_exporter": "python",
   "pygments_lexer": "ipython3",
   "version": "3.8.12"
  }
 },
 "nbformat": 4,
 "nbformat_minor": 5
}
